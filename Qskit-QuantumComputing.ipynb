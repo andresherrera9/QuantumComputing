{
 "cells": [
  {
   "cell_type": "code",
   "execution_count": 1,
   "id": "9d24d03f",
   "metadata": {},
   "outputs": [
    {
     "data": {
      "text/html": [
       "<pre style=\"word-wrap: normal;white-space: pre;background: #fff0;line-height: 1.1;font-family: &quot;Courier New&quot;,Courier,monospace\">     ┌───┐          \n",
       "q_0: ┤ H ├──■────■──\n",
       "     └───┘┌─┴─┐  │  \n",
       "q_1: ─────┤ X ├──┼──\n",
       "          └───┘┌─┴─┐\n",
       "q_2: ──────────┤ X ├\n",
       "               └───┘</pre>"
      ],
      "text/plain": [
       "     ┌───┐          \n",
       "q_0: ┤ H ├──■────■──\n",
       "     └───┘┌─┴─┐  │  \n",
       "q_1: ─────┤ X ├──┼──\n",
       "          └───┘┌─┴─┐\n",
       "q_2: ──────────┤ X ├\n",
       "               └───┘"
      ]
     },
     "execution_count": 1,
     "metadata": {},
     "output_type": "execute_result"
    }
   ],
   "source": [
    "from qiskit import QuantumCircuit\n",
    "\n",
    "circ = QuantumCircuit(3)\n",
    "# H gate on qubit 0, putting this qubit in a superposition of |0> + |1>.\n",
    "circ.h(0)\n",
    "# A CX (CNOT) gate on control qubit 0 and target qubit 1 generating a Bell state.\n",
    "circ.cx(0, 1)\n",
    "# CX (CNOT) gate on control qubit 0 and target qubit 2 resulting in a GHZ state.\n",
    "circ.cx(0, 2)\n",
    "# Draw the circuit\n",
    "circ.draw()"
   ]
  },
  {
   "cell_type": "markdown",
   "id": "fe12bf5d",
   "metadata": {},
   "source": [
    "# First Quantum Circuit"
   ]
  },
  {
   "cell_type": "code",
   "execution_count": 2,
   "id": "60501bba",
   "metadata": {},
   "outputs": [],
   "source": [
    "from qiskit import QuantumCircuit, assemble, Aer\n",
    "from qiskit.visualization import plot_histogram\n",
    "import matplotlib.pyplot "
   ]
  },
  {
   "cell_type": "code",
   "execution_count": 3,
   "id": "7058e637",
   "metadata": {},
   "outputs": [],
   "source": [
    "n = 8\n",
    "n_q = n\n",
    "n_b = n\n",
    "qc_output = QuantumCircuit(n_q,n_b)"
   ]
  },
  {
   "cell_type": "code",
   "execution_count": 4,
   "id": "a24d7523",
   "metadata": {},
   "outputs": [],
   "source": [
    "for j in range(n):\n",
    "    qc_output.measure(j,j)"
   ]
  },
  {
   "cell_type": "code",
   "execution_count": 5,
   "id": "66e1e9a9",
   "metadata": {},
   "outputs": [
    {
     "data": {
      "text/html": [
       "<pre style=\"word-wrap: normal;white-space: pre;background: #fff0;line-height: 1.1;font-family: &quot;Courier New&quot;,Courier,monospace\">     ┌─┐                     \n",
       "q_0: ┤M├─────────────────────\n",
       "     └╥┘┌─┐                  \n",
       "q_1: ─╫─┤M├──────────────────\n",
       "      ║ └╥┘┌─┐               \n",
       "q_2: ─╫──╫─┤M├───────────────\n",
       "      ║  ║ └╥┘┌─┐            \n",
       "q_3: ─╫──╫──╫─┤M├────────────\n",
       "      ║  ║  ║ └╥┘┌─┐         \n",
       "q_4: ─╫──╫──╫──╫─┤M├─────────\n",
       "      ║  ║  ║  ║ └╥┘┌─┐      \n",
       "q_5: ─╫──╫──╫──╫──╫─┤M├──────\n",
       "      ║  ║  ║  ║  ║ └╥┘┌─┐   \n",
       "q_6: ─╫──╫──╫──╫──╫──╫─┤M├───\n",
       "      ║  ║  ║  ║  ║  ║ └╥┘┌─┐\n",
       "q_7: ─╫──╫──╫──╫──╫──╫──╫─┤M├\n",
       "      ║  ║  ║  ║  ║  ║  ║ └╥┘\n",
       "c: 8/═╩══╩══╩══╩══╩══╩══╩══╩═\n",
       "      0  1  2  3  4  5  6  7 </pre>"
      ],
      "text/plain": [
       "     ┌─┐                     \n",
       "q_0: ┤M├─────────────────────\n",
       "     └╥┘┌─┐                  \n",
       "q_1: ─╫─┤M├──────────────────\n",
       "      ║ └╥┘┌─┐               \n",
       "q_2: ─╫──╫─┤M├───────────────\n",
       "      ║  ║ └╥┘┌─┐            \n",
       "q_3: ─╫──╫──╫─┤M├────────────\n",
       "      ║  ║  ║ └╥┘┌─┐         \n",
       "q_4: ─╫──╫──╫──╫─┤M├─────────\n",
       "      ║  ║  ║  ║ └╥┘┌─┐      \n",
       "q_5: ─╫──╫──╫──╫──╫─┤M├──────\n",
       "      ║  ║  ║  ║  ║ └╥┘┌─┐   \n",
       "q_6: ─╫──╫──╫──╫──╫──╫─┤M├───\n",
       "      ║  ║  ║  ║  ║  ║ └╥┘┌─┐\n",
       "q_7: ─╫──╫──╫──╫──╫──╫──╫─┤M├\n",
       "      ║  ║  ║  ║  ║  ║  ║ └╥┘\n",
       "c: 8/═╩══╩══╩══╩══╩══╩══╩══╩═\n",
       "      0  1  2  3  4  5  6  7 "
      ]
     },
     "execution_count": 5,
     "metadata": {},
     "output_type": "execute_result"
    }
   ],
   "source": [
    "qc_output.draw()"
   ]
  },
  {
   "cell_type": "code",
   "execution_count": 6,
   "id": "2073ba97",
   "metadata": {},
   "outputs": [
    {
     "data": {
      "image/png": "[encoded data removed]",
      "text/plain": [
       "<Figure size 504x360 with 1 Axes>"
      ]
     },
     "execution_count": 6,
     "metadata": {},
     "output_type": "execute_result"
    }
   ],
   "source": [
    "sim = Aer.get_backend('qasm_simulator')\n",
    "qobj = assemble(qc_output)\n",
    "result = sim.run(qobj).result()\n",
    "counts = result.get_counts()\n",
    "plot_histogram(counts)"
   ]
  },
  {
   "cell_type": "markdown",
   "id": "450c5a9c",
   "metadata": {},
   "source": [
    "## Quantum adder circuit"
   ]
  },
  {
   "cell_type": "code",
   "execution_count": 7,
   "id": "67f5c87d",
   "metadata": {},
   "outputs": [
    {
     "data": {
      "text/html": [
       "<pre style=\"word-wrap: normal;white-space: pre;background: #fff0;line-height: 1.1;font-family: &quot;Courier New&quot;,Courier,monospace\">          \n",
       "q_0: ─────\n",
       "          \n",
       "q_1: ─────\n",
       "          \n",
       "q_2: ─────\n",
       "          \n",
       "q_3: ─────\n",
       "          \n",
       "q_4: ─────\n",
       "          \n",
       "q_5: ─────\n",
       "          \n",
       "q_6: ─────\n",
       "     ┌───┐\n",
       "q_7: ┤ X ├\n",
       "     └───┘</pre>"
      ],
      "text/plain": [
       "          \n",
       "q_0: ─────\n",
       "          \n",
       "q_1: ─────\n",
       "          \n",
       "q_2: ─────\n",
       "          \n",
       "q_3: ─────\n",
       "          \n",
       "q_4: ─────\n",
       "          \n",
       "q_5: ─────\n",
       "          \n",
       "q_6: ─────\n",
       "     ┌───┐\n",
       "q_7: ┤ X ├\n",
       "     └───┘"
      ]
     },
     "execution_count": 7,
     "metadata": {},
     "output_type": "execute_result"
    }
   ],
   "source": [
    "qc_encode = QuantumCircuit(n)\n",
    "qc_encode.x(7)\n",
    "qc_encode.draw()"
   ]
  },
  {
   "cell_type": "code",
   "execution_count": 23,
   "id": "7c2f4dd7",
   "metadata": {},
   "outputs": [
    {
     "data": {
      "text/html": [
       "<pre style=\"word-wrap: normal;white-space: pre;background: #fff0;line-height: 1.1;font-family: &quot;Courier New&quot;,Courier,monospace\">          ┌─┐                     \n",
       "q_0: ─────┤M├─────────────────────\n",
       "          └╥┘┌─┐                  \n",
       "q_1: ──────╫─┤M├──────────────────\n",
       "           ║ └╥┘┌─┐               \n",
       "q_2: ──────╫──╫─┤M├───────────────\n",
       "           ║  ║ └╥┘┌─┐            \n",
       "q_3: ──────╫──╫──╫─┤M├────────────\n",
       "           ║  ║  ║ └╥┘┌─┐         \n",
       "q_4: ──────╫──╫──╫──╫─┤M├─────────\n",
       "           ║  ║  ║  ║ └╥┘┌─┐      \n",
       "q_5: ──────╫──╫──╫──╫──╫─┤M├──────\n",
       "           ║  ║  ║  ║  ║ └╥┘┌─┐   \n",
       "q_6: ──────╫──╫──╫──╫──╫──╫─┤M├───\n",
       "     ┌───┐ ║  ║  ║  ║  ║  ║ └╥┘┌─┐\n",
       "q_7: ┤ X ├─╫──╫──╫──╫──╫──╫──╫─┤M├\n",
       "     └───┘ ║  ║  ║  ║  ║  ║  ║ └╥┘\n",
       "c: 8/══════╩══╩══╩══╩══╩══╩══╩══╩═\n",
       "           0  1  2  3  4  5  6  7 </pre>"
      ],
      "text/plain": [
       "          ┌─┐                     \n",
       "q_0: ─────┤M├─────────────────────\n",
       "          └╥┘┌─┐                  \n",
       "q_1: ──────╫─┤M├──────────────────\n",
       "           ║ └╥┘┌─┐               \n",
       "q_2: ──────╫──╫─┤M├───────────────\n",
       "           ║  ║ └╥┘┌─┐            \n",
       "q_3: ──────╫──╫──╫─┤M├────────────\n",
       "           ║  ║  ║ └╥┘┌─┐         \n",
       "q_4: ──────╫──╫──╫──╫─┤M├─────────\n",
       "           ║  ║  ║  ║ └╥┘┌─┐      \n",
       "q_5: ──────╫──╫──╫──╫──╫─┤M├──────\n",
       "           ║  ║  ║  ║  ║ └╥┘┌─┐   \n",
       "q_6: ──────╫──╫──╫──╫──╫──╫─┤M├───\n",
       "     ┌───┐ ║  ║  ║  ║  ║  ║ └╥┘┌─┐\n",
       "q_7: ┤ X ├─╫──╫──╫──╫──╫──╫──╫─┤M├\n",
       "     └───┘ ║  ║  ║  ║  ║  ║  ║ └╥┘\n",
       "c: 8/══════╩══╩══╩══╩══╩══╩══╩══╩═\n",
       "           0  1  2  3  4  5  6  7 "
      ]
     },
     "execution_count": 23,
     "metadata": {},
     "output_type": "execute_result"
    }
   ],
   "source": [
    "qc = qc_encode + qc_output \n",
    "qc.draw()"
   ]
  },
  {
   "cell_type": "code",
   "execution_count": 26,
   "id": "5906ef04",
   "metadata": {},
   "outputs": [
    {
     "data": {
      "image/png": "[encoded data removed]",
      "text/plain": [
       "<Figure size 504x360 with 1 Axes>"
      ]
     },
     "execution_count": 26,
     "metadata": {},
     "output_type": "execute_result"
    }
   ],
   "source": [
    "qobj = assemble(qc)\n",
    "counts = sim.run(qobj).result().get_counts()\n",
    "plot_histogram(counts)"
   ]
  },
  {
   "cell_type": "code",
   "execution_count": 27,
   "id": "c9168824",
   "metadata": {},
   "outputs": [
    {
     "data": {
      "text/html": [
       "<pre style=\"word-wrap: normal;white-space: pre;background: #fff0;line-height: 1.1;font-family: &quot;Courier New&quot;,Courier,monospace\">          \n",
       "q_0: ─────\n",
       "     ┌───┐\n",
       "q_1: ┤ X ├\n",
       "     └───┘\n",
       "q_2: ─────\n",
       "          \n",
       "q_3: ─────\n",
       "          \n",
       "q_4: ─────\n",
       "     ┌───┐\n",
       "q_5: ┤ X ├\n",
       "     └───┘\n",
       "q_6: ─────\n",
       "          \n",
       "q_7: ─────\n",
       "          </pre>"
      ],
      "text/plain": [
       "          \n",
       "q_0: ─────\n",
       "     ┌───┐\n",
       "q_1: ┤ X ├\n",
       "     └───┘\n",
       "q_2: ─────\n",
       "          \n",
       "q_3: ─────\n",
       "          \n",
       "q_4: ─────\n",
       "     ┌───┐\n",
       "q_5: ┤ X ├\n",
       "     └───┘\n",
       "q_6: ─────\n",
       "          \n",
       "q_7: ─────\n",
       "          "
      ]
     },
     "execution_count": 27,
     "metadata": {},
     "output_type": "execute_result"
    }
   ],
   "source": [
    "qc_encode = QuantumCircuit(n)\n",
    "qc_encode.x(1)\n",
    "qc_encode.x(5)\n",
    "\n",
    "qc_encode.draw()"
   ]
  },
  {
   "cell_type": "code",
   "execution_count": 28,
   "id": "e591c1b3",
   "metadata": {},
   "outputs": [
    {
     "data": {
      "text/html": [
       "<pre style=\"word-wrap: normal;white-space: pre;background: #fff0;line-height: 1.1;font-family: &quot;Courier New&quot;,Courier,monospace\">          ┌─┐                  \n",
       "q_0: ─────┤M├──────────────────\n",
       "     ┌───┐└╥┘            ┌─┐   \n",
       "q_1: ┤ X ├─╫─────────────┤M├───\n",
       "     └───┘ ║ ┌─┐         └╥┘   \n",
       "q_2: ──────╫─┤M├──────────╫────\n",
       "           ║ └╥┘┌─┐       ║    \n",
       "q_3: ──────╫──╫─┤M├───────╫────\n",
       "           ║  ║ └╥┘┌─┐    ║    \n",
       "q_4: ──────╫──╫──╫─┤M├────╫────\n",
       "     ┌───┐ ║  ║  ║ └╥┘    ║ ┌─┐\n",
       "q_5: ┤ X ├─╫──╫──╫──╫─────╫─┤M├\n",
       "     └┬─┬┘ ║  ║  ║  ║     ║ └╥┘\n",
       "q_6: ─┤M├──╫──╫──╫──╫─────╫──╫─\n",
       "      └╥┘  ║  ║  ║  ║ ┌─┐ ║  ║ \n",
       "q_7: ──╫───╫──╫──╫──╫─┤M├─╫──╫─\n",
       "       ║   ║  ║  ║  ║ └╥┘ ║  ║ \n",
       "c: 8/══╩═══╩══╩══╩══╩══╩══╩══╩═\n",
       "       6   0  2  3  4  7  1  5 </pre>"
      ],
      "text/plain": [
       "          ┌─┐                  \n",
       "q_0: ─────┤M├──────────────────\n",
       "     ┌───┐└╥┘            ┌─┐   \n",
       "q_1: ┤ X ├─╫─────────────┤M├───\n",
       "     └───┘ ║ ┌─┐         └╥┘   \n",
       "q_2: ──────╫─┤M├──────────╫────\n",
       "           ║ └╥┘┌─┐       ║    \n",
       "q_3: ──────╫──╫─┤M├───────╫────\n",
       "           ║  ║ └╥┘┌─┐    ║    \n",
       "q_4: ──────╫──╫──╫─┤M├────╫────\n",
       "     ┌───┐ ║  ║  ║ └╥┘    ║ ┌─┐\n",
       "q_5: ┤ X ├─╫──╫──╫──╫─────╫─┤M├\n",
       "     └┬─┬┘ ║  ║  ║  ║     ║ └╥┘\n",
       "q_6: ─┤M├──╫──╫──╫──╫─────╫──╫─\n",
       "      └╥┘  ║  ║  ║  ║ ┌─┐ ║  ║ \n",
       "q_7: ──╫───╫──╫──╫──╫─┤M├─╫──╫─\n",
       "       ║   ║  ║  ║  ║ └╥┘ ║  ║ \n",
       "c: 8/══╩═══╩══╩══╩══╩══╩══╩══╩═\n",
       "       6   0  2  3  4  7  1  5 "
      ]
     },
     "execution_count": 28,
     "metadata": {},
     "output_type": "execute_result"
    }
   ],
   "source": [
    "qc = qc_encode + qc_output \n",
    "qc.draw()"
   ]
  },
  {
   "cell_type": "code",
   "execution_count": 29,
   "id": "8e12cc10",
   "metadata": {},
   "outputs": [
    {
     "data": {
      "image/png": "[encoded data removed]",
      "text/plain": [
       "<Figure size 504x360 with 1 Axes>"
      ]
     },
     "execution_count": 29,
     "metadata": {},
     "output_type": "execute_result"
    }
   ],
   "source": [
    "qobj = assemble(qc)\n",
    "counts = sim.run(qobj).result().get_counts()\n",
    "plot_histogram(counts)"
   ]
  },
  {
   "cell_type": "code",
   "execution_count": 30,
   "id": "0d9c1c33",
   "metadata": {},
   "outputs": [
    {
     "data": {
      "text/html": [
       "<pre style=\"word-wrap: normal;white-space: pre;background: #fff0;line-height: 1.1;font-family: &quot;Courier New&quot;,Courier,monospace\">          \n",
       "q_0: ─────\n",
       "          \n",
       "q_1: ─────\n",
       "     ┌───┐\n",
       "q_2: ┤ X ├\n",
       "     ├───┤\n",
       "q_3: ┤ X ├\n",
       "     ├───┤\n",
       "q_4: ┤ X ├\n",
       "     └───┘\n",
       "q_5: ─────\n",
       "          \n",
       "q_6: ─────\n",
       "          \n",
       "q_7: ─────\n",
       "          </pre>"
      ],
      "text/plain": [
       "          \n",
       "q_0: ─────\n",
       "          \n",
       "q_1: ─────\n",
       "     ┌───┐\n",
       "q_2: ┤ X ├\n",
       "     ├───┤\n",
       "q_3: ┤ X ├\n",
       "     ├───┤\n",
       "q_4: ┤ X ├\n",
       "     └───┘\n",
       "q_5: ─────\n",
       "          \n",
       "q_6: ─────\n",
       "          \n",
       "q_7: ─────\n",
       "          "
      ]
     },
     "execution_count": 30,
     "metadata": {},
     "output_type": "execute_result"
    }
   ],
   "source": [
    "qc_encode = QuantumCircuit(n)\n",
    "qc_encode.x(2)\n",
    "qc_encode.x(3)\n",
    "qc_encode.x(4)\n",
    "qc_encode.draw()"
   ]
  },
  {
   "cell_type": "markdown",
   "id": "4a2ae8ac",
   "metadata": {},
   "source": [
    "# Quantum Circuit. Output. Binary number 28 = 00011100 \n",
    "# Experimental : Inicializa foton en estado |V> = 0 y compuerta logica (Polarizadores a 45º) en los qubits 2,3,4. De igual manera se puede inicializar  un foton diagonalizado |Y> = 1/2 ( |V> + |H> ) y usar las bases ortogonales diagonal y antigiagonal para obtener los bits respectivos que representan el numero 28. \n"
   ]
  },
  {
   "cell_type": "code",
   "execution_count": 33,
   "id": "0ec32207",
   "metadata": {},
   "outputs": [
    {
     "data": {
      "text/html": [
       "<pre style=\"word-wrap: normal;white-space: pre;background: #fff0;line-height: 1.1;font-family: &quot;Courier New&quot;,Courier,monospace\">          ┌─┐                  \n",
       "q_0: ─────┤M├──────────────────\n",
       "          └╥┘┌─┐               \n",
       "q_1: ──────╫─┤M├───────────────\n",
       "     ┌───┐ ║ └╥┘      ┌─┐      \n",
       "q_2: ┤ X ├─╫──╫───────┤M├──────\n",
       "     ├───┤ ║  ║       └╥┘┌─┐   \n",
       "q_3: ┤ X ├─╫──╫────────╫─┤M├───\n",
       "     ├───┤ ║  ║        ║ └╥┘┌─┐\n",
       "q_4: ┤ X ├─╫──╫────────╫──╫─┤M├\n",
       "     └┬─┬┘ ║  ║        ║  ║ └╥┘\n",
       "q_5: ─┤M├──╫──╫────────╫──╫──╫─\n",
       "      └╥┘  ║  ║ ┌─┐    ║  ║  ║ \n",
       "q_6: ──╫───╫──╫─┤M├────╫──╫──╫─\n",
       "       ║   ║  ║ └╥┘┌─┐ ║  ║  ║ \n",
       "q_7: ──╫───╫──╫──╫─┤M├─╫──╫──╫─\n",
       "       ║   ║  ║  ║ └╥┘ ║  ║  ║ \n",
       "c: 8/══╩═══╩══╩══╩══╩══╩══╩══╩═\n",
       "       5   0  1  6  7  2  3  4 </pre>"
      ],
      "text/plain": [
       "          ┌─┐                  \n",
       "q_0: ─────┤M├──────────────────\n",
       "          └╥┘┌─┐               \n",
       "q_1: ──────╫─┤M├───────────────\n",
       "     ┌───┐ ║ └╥┘      ┌─┐      \n",
       "q_2: ┤ X ├─╫──╫───────┤M├──────\n",
       "     ├───┤ ║  ║       └╥┘┌─┐   \n",
       "q_3: ┤ X ├─╫──╫────────╫─┤M├───\n",
       "     ├───┤ ║  ║        ║ └╥┘┌─┐\n",
       "q_4: ┤ X ├─╫──╫────────╫──╫─┤M├\n",
       "     └┬─┬┘ ║  ║        ║  ║ └╥┘\n",
       "q_5: ─┤M├──╫──╫────────╫──╫──╫─\n",
       "      └╥┘  ║  ║ ┌─┐    ║  ║  ║ \n",
       "q_6: ──╫───╫──╫─┤M├────╫──╫──╫─\n",
       "       ║   ║  ║ └╥┘┌─┐ ║  ║  ║ \n",
       "q_7: ──╫───╫──╫──╫─┤M├─╫──╫──╫─\n",
       "       ║   ║  ║  ║ └╥┘ ║  ║  ║ \n",
       "c: 8/══╩═══╩══╩══╩══╩══╩══╩══╩═\n",
       "       5   0  1  6  7  2  3  4 "
      ]
     },
     "execution_count": 33,
     "metadata": {},
     "output_type": "execute_result"
    }
   ],
   "source": [
    "qc = qc_encode + qc_output \n",
    "qc.draw()"
   ]
  },
  {
   "cell_type": "code",
   "execution_count": 34,
   "id": "49587e51",
   "metadata": {},
   "outputs": [
    {
     "data": {
      "image/png": "[encoded data removed]",
      "text/plain": [
       "<Figure size 504x360 with 1 Axes>"
      ]
     },
     "execution_count": 34,
     "metadata": {},
     "output_type": "execute_result"
    }
   ],
   "source": [
    "qobj = assemble(qc)\n",
    "counts = sim.run(qobj).result().get_counts()\n",
    "plot_histogram(counts)"
   ]
  },
  {
   "cell_type": "code",
   "execution_count": null,
   "id": "0a63673f",
   "metadata": {},
   "outputs": [],
   "source": []
  }
 ],
 "metadata": {
  "kernelspec": {
   "display_name": "Python 3",
   "language": "python",
   "name": "python3"
  },
  "language_info": {
   "codemirror_mode": {
    "name": "ipython",
    "version": 3
   },
   "file_extension": ".py",
   "mimetype": "text/x-python",
   "name": "python",
   "nbconvert_exporter": "python",
   "pygments_lexer": "ipython3",
   "version": "3.8.8"
  }
 },
 "nbformat": 4,
 "nbformat_minor": 5
}
